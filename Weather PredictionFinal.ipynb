{
 "cells": [
  {
   "cell_type": "markdown",
   "metadata": {},
   "source": [
    "## QUESTION 2:\n",
    "Take a linear regression dataset from the website and experiment(You can\n",
    "use all forms of regression, including LASSO and Ridge, and you can use\n",
    "library function) https://www.kaggle.com/rtatman/datasets-for-regression-\n",
    "analysis"
   ]
  },
  {
   "cell_type": "raw",
   "metadata": {},
   "source": [
    "\n",
    "Here we have used the Dataset Weather in Szegad.\n",
    "\n",
    "1.Is there a relationship between humidity and temperature? \n",
    "2.What about between humidity and apparent temperature? \n",
    "\n",
    "\n"
   ]
  },
  {
   "cell_type": "code",
   "execution_count": 20,
   "metadata": {},
   "outputs": [
    {
     "name": "stdout",
     "output_type": "stream",
     "text": [
      "MSE: 0.8976921629340127\n",
      "R-Squared: 0.9901830805711033\n"
     ]
    }
   ],
   "source": [
    "import pandas as pd\n",
    "import numpy as np\n",
    "import matplotlib.pyplot as plt\n",
    "\n",
    "train=pd.read_csv('/home/ashly/Desktop/Machine Learning/Lab Assignment/Lab Assignment 9-10-20/Question2/Dataset Weather in Szegad/weatherHistory.csv')\n",
    "\n",
    "#PREPROCESSING START\n",
    "s=train.select_dtypes(include='object')\n",
    "remove_list=list(s)\n",
    "\n",
    "#Here we use the drop function to remove the object column types. The inplace [if set to True, will \n",
    "# change the train data inplace, if set to False will change the data after assigning it ]\n",
    "train.drop(remove_list,axis=1,inplace=True)\n",
    "#PREPROCESSING DONE\n",
    "\n",
    "\n",
    "#Predicting the Temperature using all the features\n",
    "from sklearn.linear_model import LinearRegression\n",
    "lreg=LinearRegression()\n",
    "\n",
    "from sklearn.model_selection import train_test_split\n",
    "X=train.drop('Temperature (C)',1)\n",
    "x_train,x_cv,y_train,y_cv=train_test_split(X,train['Temperature (C)'],test_size=0.3)\n",
    "\n",
    "x_train.shape\n",
    "\n",
    "lreg.fit(x_train,y_train)\n",
    "pred=lreg.predict(x_cv)\n",
    "mse=np.mean(np.square(pred-y_cv))\n",
    "print('MSE:',mse)\n",
    "#R-Squared value\n",
    "print('R-Squared:',lreg.score(x_cv,y_cv))\n",
    "\n",
    "\n",
    "\n"
   ]
  },
  {
   "cell_type": "code",
   "execution_count": 21,
   "metadata": {},
   "outputs": [
    {
     "data": {
      "text/plain": [
       "0         9.472222\n",
       "1         9.355556\n",
       "2         9.377778\n",
       "3         8.288889\n",
       "4         8.755556\n",
       "           ...    \n",
       "96448    26.016667\n",
       "96449    24.583333\n",
       "96450    22.038889\n",
       "96451    21.522222\n",
       "96452    20.438889\n",
       "Name: Temperature (C), Length: 96453, dtype: float64"
      ]
     },
     "execution_count": 21,
     "metadata": {},
     "output_type": "execute_result"
    }
   ],
   "source": [
    "train['Temperature (C)']"
   ]
  },
  {
   "cell_type": "code",
   "execution_count": 22,
   "metadata": {},
   "outputs": [
    {
     "data": {
      "text/plain": [
       "<AxesSubplot:title={'center':'Modal Coefficients'}>"
      ]
     },
     "execution_count": 22,
     "metadata": {},
     "output_type": "execute_result"
    },
    {
     "data": {
      "image/png": "[encoded data removed]",
      "text/plain": [
       "<Figure size 432x288 with 1 Axes>"
      ]
     },
     "metadata": {
      "needs_background": "light"
     },
     "output_type": "display_data"
    }
   ],
   "source": [
    "predictors = x_train.columns\n",
    "coef=pd.Series(lreg.coef_,predictors).sort_values()\n",
    "\n",
    "coef.plot(kind='bar', title='Modal Coefficients')\n",
    "\n"
   ]
  },
  {
   "cell_type": "raw",
   "metadata": {},
   "source": [
    "From the above graph we can the humidity has a negative co-relation with Temperature, and also see that\n",
    "Apparent Temperature has a very high co-relation with Temperature."
   ]
  },
  {
   "cell_type": "code",
   "execution_count": 24,
   "metadata": {},
   "outputs": [
    {
     "name": "stdout",
     "output_type": "stream",
     "text": [
      "MSE: 1.2414680420661175\n",
      "R-Squared: 0.989997841168601\n"
     ]
    }
   ],
   "source": [
    "#Predicting the Temperature using all features and Implementing Ridge Regularisation\n",
    "from sklearn.linear_model import Ridge\n",
    "rid_reg=Ridge(alpha=0.05,normalize=True)\n",
    "\n",
    "from sklearn.model_selection import train_test_split\n",
    "X=train.drop('Temperature (C)',1)\n",
    "x_train,x_cv,y_train,y_cv=train_test_split(X,train['Temperature (C)'],test_size=0.3)\n",
    "\n",
    "x_train.shape\n",
    "\n",
    "rid_reg.fit(x_train,y_train)\n",
    "pred=rid_reg.predict(x_cv)\n",
    "mse=np.mean(np.square(pred-y_cv))\n",
    "print('MSE:',mse)\n",
    "#R-Squared value\n",
    "print('R-Squared:',lreg.score(x_cv,y_cv))"
   ]
  },
  {
   "cell_type": "code",
   "execution_count": 25,
   "metadata": {},
   "outputs": [
    {
     "data": {
      "text/plain": [
       "<AxesSubplot:>"
      ]
     },
     "execution_count": 25,
     "metadata": {},
     "output_type": "execute_result"
    },
    {
     "data": {
      "image/png": "[encoded data removed]",
      "text/plain": [
       "<Figure size 432x288 with 1 Axes>"
      ]
     },
     "metadata": {
      "needs_background": "light"
     },
     "output_type": "display_data"
    }
   ],
   "source": [
    "#Printing the coefficent Graph\n",
    "predictorsR=x_train.columns\n",
    "coeffR=pd.Series(rid_reg.coef_,predictorsR).sort_values()\n",
    "coeffR.plot(kind='bar')"
   ]
  },
  {
   "cell_type": "code",
   "execution_count": 26,
   "metadata": {},
   "outputs": [
    {
     "name": "stdout",
     "output_type": "stream",
     "text": [
      "MSE: 0.9365188438508804\n",
      "R-Squared: 0.9901919939356453\n"
     ]
    }
   ],
   "source": [
    "#Predicting the Temperature using all features and Implementing LASSO Regularisation\n",
    "from sklearn.linear_model import Lasso\n",
    "lasso_reg=Lasso(alpha=0.05,normalize=False)\n",
    "\n",
    "from sklearn.model_selection import train_test_split\n",
    "X=train.drop('Temperature (C)',1)\n",
    "x_train,x_cv,y_train,y_cv=train_test_split(X,train['Temperature (C)'],test_size=0.3)\n",
    "\n",
    "x_train.shape\n",
    "\n",
    "lasso_reg.fit(x_train,y_train)\n",
    "pred=lasso_reg.predict(x_cv)\n",
    "mse=np.mean(np.square(pred-y_cv))\n",
    "print('MSE:',mse)\n",
    "#R-Squared value\n",
    "print('R-Squared:',lreg.score(x_cv,y_cv))"
   ]
  },
  {
   "cell_type": "code",
   "execution_count": 27,
   "metadata": {},
   "outputs": [
    {
     "data": {
      "text/plain": [
       "<AxesSubplot:>"
      ]
     },
     "execution_count": 27,
     "metadata": {},
     "output_type": "execute_result"
    },
    {
     "data": {
      "image/png": "[encoded data removed]",
      "text/plain": [
       "<Figure size 432x288 with 1 Axes>"
      ]
     },
     "metadata": {
      "needs_background": "light"
     },
     "output_type": "display_data"
    }
   ],
   "source": [
    "# Find the coefficent graph\n",
    "predictorsL=x_train.columns\n",
    "coeffL=pd.Series(lasso_reg.coef_,predictorsL).sort_values()\n",
    "coeffL.plot(kind='bar')\n",
    "\n"
   ]
  },
  {
   "cell_type": "markdown",
   "metadata": {},
   "source": [
    "\n",
    "RESULT ANALYSIS Question2:\n",
    "\n",
    "We can see that Lasso and Ridge regularization has been used to predict the target variable 'Temperature' \n",
    "from the dataset."
   ]
  },
  {
   "cell_type": "code",
   "execution_count": null,
   "metadata": {},
   "outputs": [],
   "source": []
  }
 ],
 "metadata": {
  "kernelspec": {
   "display_name": "Python 3",
   "language": "python",
   "name": "python3"
  },
  "language_info": {
   "codemirror_mode": {
    "name": "ipython",
    "version": 3
   },
   "file_extension": ".py",
   "mimetype": "text/x-python",
   "name": "python",
   "nbconvert_exporter": "python",
   "pygments_lexer": "ipython3",
   "version": "3.8.3"
  }
 },
 "nbformat": 4,
 "nbformat_minor": 4
}
