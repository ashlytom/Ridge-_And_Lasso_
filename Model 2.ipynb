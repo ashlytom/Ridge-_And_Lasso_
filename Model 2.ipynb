{
 "cells": [
  {
   "cell_type": "markdown",
   "metadata": {},
   "source": [
    "### MODEL 2: AVERAGE SALES BY LOCATION\n",
    "\n",
    "Predicting the model based on Location average."
   ]
  },
  {
   "cell_type": "code",
   "execution_count": 22,
   "metadata": {},
   "outputs": [],
   "source": [
    "import pandas as pd\n",
    "from sklearn.metrics import mean_squared_error\n",
    "\n",
    "# read the train and test dataset\n",
    "train=pd.read_csv('/home/ashly/Desktop/Machine Learning/Lab Assignment/Lab Assignment 9-10-20/DataSet1/train1.csv')\n",
    "test=pd.read_csv('/home/ashly/Desktop/Machine Learning/Lab Assignment/Lab Assignment 9-10-20/DataSet1/test1.csv')"
   ]
  },
  {
   "cell_type": "markdown",
   "metadata": {},
   "source": [
    "#### Finding the prediction for Tier 1 Locations"
   ]
  },
  {
   "cell_type": "code",
   "execution_count": 23,
   "metadata": {},
   "outputs": [],
   "source": [
    "Train_T1=train[train['Outlet_Location_Type_Tier 1']==1]\n",
    "Test_T1=test[test['Outlet_Location_Type_Tier 1']==1]\n",
    "\n",
    "#Setting up Target Variable\n",
    "train_y=Train_T1['Item_Outlet_Sales']\n",
    "test_y=Test_T1['Item_Outlet_Sales']\n",
    "\n"
   ]
  },
  {
   "cell_type": "code",
   "execution_count": 24,
   "metadata": {},
   "outputs": [
    {
     "name": "stdout",
     "output_type": "stream",
     "text": [
      "Mean of Target Variable : 1961.2175625316456\n"
     ]
    }
   ],
   "source": [
    "print('Mean of Target Variable :',train_y.mean())"
   ]
  },
  {
   "cell_type": "code",
   "execution_count": 25,
   "metadata": {},
   "outputs": [
    {
     "name": "stdout",
     "output_type": "stream",
     "text": [
      "\n",
      "RMSE on train dataset :  1607.880237320009\n"
     ]
    }
   ],
   "source": [
    "#Creating a array with the average value as our prediction\n",
    "predict_train = []\n",
    "for i in range(train_y.shape[0]):\n",
    "    predict_train.append(train_y.mean())\n",
    "predict_train\n",
    "\n",
    "#Checking the error using our prediction as a model against the actual training set values to see if \n",
    "#average can be used to predict the Target\n",
    "\n",
    "rmse_train = mean_squared_error(train_y,predict_train)**(0.5)\n",
    "print('\\nRMSE on train dataset : ', rmse_train)"
   ]
  },
  {
   "cell_type": "code",
   "execution_count": 26,
   "metadata": {},
   "outputs": [
    {
     "name": "stdout",
     "output_type": "stream",
     "text": [
      "\n",
      "RMSE on test dataset :  1460.9230688295156\n"
     ]
    }
   ],
   "source": [
    "#Testing on test set\n",
    "predict_test = []\n",
    "for i in range(test_y.shape[0]):\n",
    "    predict_test.append(train_y.mean())\n",
    "predict_test\n",
    "#Checking the error using our prediction as a model against the test set values to see if \n",
    "#average can be used to predict the Target\n",
    "\n",
    "rmse_test = mean_squared_error(test_y,predict_test)**(0.5)\n",
    "print('\\nRMSE on test dataset : ', rmse_test)"
   ]
  },
  {
   "cell_type": "markdown",
   "metadata": {},
   "source": [
    "#### Finding the prediction for Tier 2 Locations"
   ]
  },
  {
   "cell_type": "code",
   "execution_count": 27,
   "metadata": {},
   "outputs": [
    {
     "name": "stdout",
     "output_type": "stream",
     "text": [
      "Mean of Target Variable : 2361.5446144144144\n",
      "\n",
      "RMSE on train dataset :  1471.3348716131588\n",
      "\n",
      "RMSE on test dataset :  1392.3249611226602\n"
     ]
    }
   ],
   "source": [
    "Train_T2=train[train['Outlet_Location_Type_Tier 2']==1]\n",
    "Test_T2=test[test['Outlet_Location_Type_Tier 2']==1]\n",
    "\n",
    "#Setting up Target Variable\n",
    "train_y=Train_T2['Item_Outlet_Sales']\n",
    "test_y=Test_T2['Item_Outlet_Sales']\n",
    "#test = test['Item_Outlet_Sales']\n",
    "\n",
    "print('Mean of Target Variable :',train_y.mean())\n",
    "\n",
    "#Creating a array with the average value as our prediction\n",
    "predict_train = []\n",
    "for i in range(train_y.shape[0]):\n",
    "    predict_train.append(train_y.mean())\n",
    "predict_train\n",
    "\n",
    "#Checking the error using our prediction as a model against the actual training set values to see if \n",
    "#average can be used to predict the Target\n",
    "\n",
    "rmse_train = mean_squared_error(train_y,predict_train)**(0.5)\n",
    "print('\\nRMSE on train dataset : ', rmse_train)\n",
    "\n",
    "#Testing on test set\n",
    "predict_test = []\n",
    "for i in range(test_y.shape[0]):\n",
    "    predict_test.append(train_y.mean())\n",
    "predict_test\n",
    "#Checking the error using our prediction as a model against the test set values to see if \n",
    "#average can be used to predict the Target\n",
    "\n",
    "rmse_test = mean_squared_error(test_y,predict_test)**(0.5)\n",
    "print('\\nRMSE on test dataset : ', rmse_test)\n"
   ]
  },
  {
   "cell_type": "markdown",
   "metadata": {},
   "source": [
    "#### Finding the prediction for Tier 3 Locations"
   ]
  },
  {
   "cell_type": "code",
   "execution_count": 28,
   "metadata": {},
   "outputs": [
    {
     "name": "stdout",
     "output_type": "stream",
     "text": [
      "Mean of Target Variable : 2340.847540190476\n",
      "\n",
      "RMSE on train dataset :  2066.0843876468844\n",
      "\n",
      "RMSE on test dataset :  1691.2704806956426\n"
     ]
    }
   ],
   "source": [
    "Train_T3=train[train['Outlet_Location_Type_Tier 3']==1]\n",
    "Test_T3=test[test['Outlet_Location_Type_Tier 3']==1]\n",
    "\n",
    "#Setting up Target Variable\n",
    "train_y=Train_T3['Item_Outlet_Sales']\n",
    "test_y=Test_T3['Item_Outlet_Sales']\n",
    "#test = test['Item_Outlet_Sales']\n",
    "\n",
    "print('Mean of Target Variable :',train_y.mean())\n",
    "\n",
    "#Creating a array with the average value as our prediction\n",
    "predict_train = []\n",
    "for i in range(train_y.shape[0]):\n",
    "    predict_train.append(train_y.mean())\n",
    "predict_train\n",
    "\n",
    "#Checking the error using our prediction as a model against the actual training set values to see if \n",
    "#average can be used to predict the Target\n",
    "\n",
    "rmse_train = mean_squared_error(train_y,predict_train)**(0.5)\n",
    "print('\\nRMSE on train dataset : ', rmse_train)\n",
    "\n",
    "#Testing on test set\n",
    "predict_test = []\n",
    "for i in range(test_y.shape[0]):\n",
    "    predict_test.append(train_y.mean())\n",
    "predict_test\n",
    "#Checking the error using our prediction as a model against the test set values to see if \n",
    "#average can be used to predict the Target\n",
    "\n",
    "rmse_test = mean_squared_error(test_y,predict_test)**(0.5)\n",
    "print('\\nRMSE on test dataset : ', rmse_test)\n"
   ]
  },
  {
   "cell_type": "code",
   "execution_count": null,
   "metadata": {},
   "outputs": [],
   "source": []
  }
 ],
 "metadata": {
  "kernelspec": {
   "display_name": "Python 3",
   "language": "python",
   "name": "python3"
  },
  "language_info": {
   "codemirror_mode": {
    "name": "ipython",
    "version": 3
   },
   "file_extension": ".py",
   "mimetype": "text/x-python",
   "name": "python",
   "nbconvert_exporter": "python",
   "pygments_lexer": "ipython3",
   "version": "3.8.3"
  }
 },
 "nbformat": 4,
 "nbformat_minor": 4
}
