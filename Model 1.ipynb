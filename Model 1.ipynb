{
 "cells": [
  {
   "cell_type": "markdown",
   "metadata": {},
   "source": [
    "## Question1:\n",
    "\n",
    "Relate the content on the webpage to whatever we had studied in\n",
    "classroom. https://www.analyticsvidhya.com/blog/2017/06/a-\n",
    "comprehensive-guide-for-linear-ridge-and-lasso-regression/\n",
    "Experiment on the choice of regularisation constant and submit a report."
   ]
  },
  {
   "cell_type": "raw",
   "metadata": {},
   "source": [
    "1.Item_Identifier: Unique product ID\n",
    "2.Item_Weight: Weight of product\n",
    "3.Item_Fat_Content: Whether the product is low fat or not\n",
    "4.Item_Visibility: The % of total display area of all products in a store allocated to the particular product\n",
    "5.Item_Type: The category to which the product belongs\n",
    "6.Item_MRP: Maximum Retail Price (list price) of the product\n",
    "\n",
    "7.Outlet_Identifier: Unique store ID\n",
    "8.Outlet_Establishment_Year: The year in which store was established\n",
    "9.Outlet_Size: The size of the store in terms of ground area covered\n",
    "10.Outlet_Location_Type: The type of city in which the store is located\n",
    "11.Outlet_Type: Whether the outlet is just a grocery store or some sort of supermarket\n",
    "\n",
    "12.Item_Outlet_Sales: Sales of the product in the particular store. This is the outcome variable to be predicted."
   ]
  },
  {
   "cell_type": "markdown",
   "metadata": {},
   "source": [
    "### MODEL 1: MEAN SALES\n",
    "Predicitng the model using the average of the values"
   ]
  },
  {
   "cell_type": "code",
   "execution_count": 1,
   "metadata": {},
   "outputs": [],
   "source": [
    "import pandas as pd\n",
    "from sklearn.metrics import mean_squared_error"
   ]
  },
  {
   "cell_type": "code",
   "execution_count": 2,
   "metadata": {},
   "outputs": [],
   "source": [
    "# read the train and test dataset\n",
    "train=pd.read_csv('/home/ashly/Desktop/Machine Learning/Lab Assignment/Lab Assignment 9-10-20/Question1/DataSet1/train1.csv')\n",
    "test=pd.read_csv('/home/ashly/Desktop/Machine Learning/Lab Assignment/Lab Assignment 9-10-20/Question1/DataSet1/test1.csv')"
   ]
  },
  {
   "cell_type": "code",
   "execution_count": 3,
   "metadata": {},
   "outputs": [
    {
     "name": "stdout",
     "output_type": "stream",
     "text": [
      "   Item_Weight  Item_Visibility  Item_MRP  Outlet_Establishment_Year  \\\n",
      "0     6.800000         0.037490   48.6034                       2004   \n",
      "1    15.600000         0.172597  114.8518                       1997   \n",
      "2    12.911575         0.054721  107.8254                       1985   \n",
      "3    11.800000         0.098312   81.4618                       1998   \n",
      "4    17.850000         0.046600  125.1388                       2004   \n",
      "\n",
      "   Item_Outlet_Sales  Item_Fat_Content_LF  Item_Fat_Content_Low Fat  \\\n",
      "0           291.6204                    0                         1   \n",
      "1          2163.1842                    0                         1   \n",
      "2          2387.5588                    0                         1   \n",
      "3           161.1236                    0                         1   \n",
      "4          1981.4208                    0                         0   \n",
      "\n",
      "   Item_Fat_Content_Regular  Item_Fat_Content_low fat  Item_Fat_Content_reg  \\\n",
      "0                         0                         0                     0   \n",
      "1                         0                         0                     0   \n",
      "2                         0                         0                     0   \n",
      "3                         0                         0                     0   \n",
      "4                         1                         0                     0   \n",
      "\n",
      "   ...  Outlet_Size_High  Outlet_Size_Medium  Outlet_Size_Small  \\\n",
      "0  ...                 0                   0                  1   \n",
      "1  ...                 0                   0                  1   \n",
      "2  ...                 0                   1                  0   \n",
      "3  ...                 0                   0                  0   \n",
      "4  ...                 0                   0                  1   \n",
      "\n",
      "   Outlet_Location_Type_Tier 1  Outlet_Location_Type_Tier 2  \\\n",
      "0                            0                            1   \n",
      "1                            1                            0   \n",
      "2                            0                            0   \n",
      "3                            0                            0   \n",
      "4                            0                            1   \n",
      "\n",
      "   Outlet_Location_Type_Tier 3  Outlet_Type_Grocery Store  \\\n",
      "0                            0                          0   \n",
      "1                            0                          0   \n",
      "2                            1                          0   \n",
      "3                            1                          1   \n",
      "4                            0                          0   \n",
      "\n",
      "   Outlet_Type_Supermarket Type1  Outlet_Type_Supermarket Type2  \\\n",
      "0                              1                              0   \n",
      "1                              1                              0   \n",
      "2                              0                              0   \n",
      "3                              0                              0   \n",
      "4                              1                              0   \n",
      "\n",
      "   Outlet_Type_Supermarket Type3  \n",
      "0                              0  \n",
      "1                              0  \n",
      "2                              1  \n",
      "3                              0  \n",
      "4                              0  \n",
      "\n",
      "[5 rows x 36 columns]\n"
     ]
    }
   ],
   "source": [
    "print(train.head())"
   ]
  },
  {
   "cell_type": "code",
   "execution_count": 4,
   "metadata": {},
   "outputs": [
    {
     "name": "stdout",
     "output_type": "stream",
     "text": [
      "(1364, 36)\n",
      "(341, 36)\n"
     ]
    }
   ],
   "source": [
    "print(train.shape)\n",
    "print(test.shape)"
   ]
  },
  {
   "cell_type": "code",
   "execution_count": 5,
   "metadata": {},
   "outputs": [],
   "source": [
    "#Setting up Target Variable\n",
    "train_y=train['Item_Outlet_Sales']\n",
    "test_y=test['Item_Outlet_Sales']\n",
    "\n"
   ]
  },
  {
   "cell_type": "code",
   "execution_count": 6,
   "metadata": {},
   "outputs": [
    {
     "name": "stdout",
     "output_type": "stream",
     "text": [
      "Mean of Target Variable : 2237.6478772727273\n"
     ]
    }
   ],
   "source": [
    "print('Mean of Target Variable :',train_y.mean())"
   ]
  },
  {
   "cell_type": "code",
   "execution_count": 7,
   "metadata": {},
   "outputs": [
    {
     "name": "stdout",
     "output_type": "stream",
     "text": [
      "\n",
      "RMSE on train dataset :  1768.498445726522\n"
     ]
    }
   ],
   "source": [
    "#Creating a array with the average value as our prediction\n",
    "predict_train = []\n",
    "for i in range(train_y.shape[0]):\n",
    "    predict_train.append(train_y.mean())\n",
    "predict_train\n",
    "\n",
    "#Checking the error using our prediction as a model against the actual training set values to see if \n",
    "#average can be used to predict the Target\n",
    "\n",
    "rmse_train = mean_squared_error(train_y,predict_train)**(0.5)\n",
    "print('\\nRMSE on train dataset : ', rmse_train)"
   ]
  },
  {
   "cell_type": "code",
   "execution_count": 8,
   "metadata": {},
   "outputs": [
    {
     "name": "stdout",
     "output_type": "stream",
     "text": [
      "\n",
      "RMSE on test dataset :  1528.7079090483899\n"
     ]
    }
   ],
   "source": [
    "#Testing on test set\n",
    "predict_test = []\n",
    "for i in range(test_y.shape[0]):\n",
    "    predict_test.append(train_y.mean())\n",
    "predict_test\n",
    "#Checking the error using our prediction as a model against the test set values to see if \n",
    "#average can be used to predict the Target\n",
    "\n",
    "rmse_test = mean_squared_error(test_y,predict_test)**(0.5)\n",
    "print('\\nRMSE on test dataset : ', rmse_test)"
   ]
  },
  {
   "cell_type": "code",
   "execution_count": null,
   "metadata": {},
   "outputs": [],
   "source": []
  }
 ],
 "metadata": {
  "kernelspec": {
   "display_name": "Python 3",
   "language": "python",
   "name": "python3"
  },
  "language_info": {
   "codemirror_mode": {
    "name": "ipython",
    "version": 3
   },
   "file_extension": ".py",
   "mimetype": "text/x-python",
   "name": "python",
   "nbconvert_exporter": "python",
   "pygments_lexer": "ipython3",
   "version": "3.8.3"
  }
 },
 "nbformat": 4,
 "nbformat_minor": 4
}
